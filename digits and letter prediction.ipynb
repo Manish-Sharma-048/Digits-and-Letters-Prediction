{
 "cells": [
  {
   "cell_type": "code",
   "execution_count": 2,
   "metadata": {},
   "outputs": [],
   "source": [
    "import tensorflow as tf\n",
    "from tensorflow.keras import Sequential\n",
    "from tensorflow.keras.layers import Dense"
   ]
  },
  {
   "cell_type": "code",
   "execution_count": 3,
   "metadata": {},
   "outputs": [],
   "source": [
    "mnist=tf.keras.datasets.mnist"
   ]
  },
  {
   "cell_type": "code",
   "execution_count": 5,
   "metadata": {},
   "outputs": [],
   "source": [
    "(X_train,y_train),(X_test,y_test)=mnist.load_data()"
   ]
  },
  {
   "cell_type": "code",
   "execution_count": 6,
   "metadata": {},
   "outputs": [
    {
     "data": {
      "text/plain": [
       "(60000, 28, 28)"
      ]
     },
     "execution_count": 6,
     "metadata": {},
     "output_type": "execute_result"
    }
   ],
   "source": [
    "X_train.shape"
   ]
  },
  {
   "cell_type": "code",
   "execution_count": 7,
   "metadata": {},
   "outputs": [
    {
     "data": {
      "text/plain": [
       "(10000, 28, 28)"
      ]
     },
     "execution_count": 7,
     "metadata": {},
     "output_type": "execute_result"
    }
   ],
   "source": [
    "X_test.shape"
   ]
  },
  {
   "cell_type": "code",
   "execution_count": 8,
   "metadata": {},
   "outputs": [],
   "source": [
    "import matplotlib.pyplot as plt"
   ]
  },
  {
   "cell_type": "code",
   "execution_count": 14,
   "metadata": {},
   "outputs": [
    {
     "data": {
      "image/png": "[encoded data removed]",
      "text/plain": [
       "<Figure size 432x288 with 1 Axes>"
      ]
     },
     "metadata": {
      "needs_background": "light"
     },
     "output_type": "display_data"
    }
   ],
   "source": [
    "plt.imshow(X_train[0])\n",
    "plt.show()"
   ]
  },
  {
   "cell_type": "code",
   "execution_count": 16,
   "metadata": {},
   "outputs": [],
   "source": [
    "X_train=X_train/255.0"
   ]
  },
  {
   "cell_type": "code",
   "execution_count": 17,
   "metadata": {},
   "outputs": [],
   "source": [
    "X_test=X_test/255.0"
   ]
  },
  {
   "cell_type": "code",
   "execution_count": 21,
   "metadata": {},
   "outputs": [
    {
     "name": "stdout",
     "output_type": "stream",
     "text": [
      "Epoch 1/50\n",
      "960/960 [==============================] - 2s 1ms/step - loss: 0.8290 - accuracy: 0.7928 - val_loss: 0.3784 - val_accuracy: 0.8951\n",
      "Epoch 2/50\n",
      "960/960 [==============================] - 1s 1ms/step - loss: 0.3567 - accuracy: 0.8996 - val_loss: 0.2959 - val_accuracy: 0.9155\n",
      "Epoch 3/50\n",
      "960/960 [==============================] - 1s 1ms/step - loss: 0.2978 - accuracy: 0.9152 - val_loss: 0.2643 - val_accuracy: 0.9258\n",
      "Epoch 4/50\n",
      "960/960 [==============================] - 1s 1ms/step - loss: 0.2639 - accuracy: 0.9242 - val_loss: 0.2395 - val_accuracy: 0.9316\n",
      "Epoch 5/50\n",
      "960/960 [==============================] - 1s 1ms/step - loss: 0.2388 - accuracy: 0.9319 - val_loss: 0.2222 - val_accuracy: 0.9362\n",
      "Epoch 6/50\n",
      "960/960 [==============================] - 1s 1ms/step - loss: 0.2187 - accuracy: 0.9370 - val_loss: 0.2032 - val_accuracy: 0.9435\n",
      "Epoch 7/50\n",
      "960/960 [==============================] - 1s 1ms/step - loss: 0.2013 - accuracy: 0.9423 - val_loss: 0.1917 - val_accuracy: 0.9466\n",
      "Epoch 8/50\n",
      "960/960 [==============================] - 1s 1ms/step - loss: 0.1874 - accuracy: 0.9467 - val_loss: 0.1823 - val_accuracy: 0.9491\n",
      "Epoch 9/50\n",
      "960/960 [==============================] - 1s 1ms/step - loss: 0.1742 - accuracy: 0.9501 - val_loss: 0.1739 - val_accuracy: 0.9508\n",
      "Epoch 10/50\n",
      "960/960 [==============================] - 1s 1ms/step - loss: 0.1637 - accuracy: 0.9525 - val_loss: 0.1661 - val_accuracy: 0.9533\n",
      "Epoch 11/50\n",
      "960/960 [==============================] - 1s 1ms/step - loss: 0.1531 - accuracy: 0.9562 - val_loss: 0.1574 - val_accuracy: 0.9568\n",
      "Epoch 12/50\n",
      "960/960 [==============================] - 1s 1ms/step - loss: 0.1446 - accuracy: 0.9585 - val_loss: 0.1526 - val_accuracy: 0.9578\n",
      "Epoch 13/50\n",
      "960/960 [==============================] - 1s 1ms/step - loss: 0.1363 - accuracy: 0.9606 - val_loss: 0.1459 - val_accuracy: 0.9591\n",
      "Epoch 14/50\n",
      "960/960 [==============================] - 1s 2ms/step - loss: 0.1289 - accuracy: 0.9633 - val_loss: 0.1395 - val_accuracy: 0.9622\n",
      "Epoch 15/50\n",
      "960/960 [==============================] - 1s 1ms/step - loss: 0.1224 - accuracy: 0.9653 - val_loss: 0.1369 - val_accuracy: 0.9619\n",
      "Epoch 16/50\n",
      "960/960 [==============================] - 1s 1ms/step - loss: 0.1163 - accuracy: 0.9669 - val_loss: 0.1301 - val_accuracy: 0.9653\n",
      "Epoch 17/50\n",
      "960/960 [==============================] - 1s 1ms/step - loss: 0.1105 - accuracy: 0.9690 - val_loss: 0.1305 - val_accuracy: 0.9636\n",
      "Epoch 18/50\n",
      "960/960 [==============================] - 1s 1ms/step - loss: 0.1055 - accuracy: 0.9699 - val_loss: 0.1237 - val_accuracy: 0.9657\n",
      "Epoch 19/50\n",
      "960/960 [==============================] - 1s 1ms/step - loss: 0.1007 - accuracy: 0.9716 - val_loss: 0.1203 - val_accuracy: 0.9668\n",
      "Epoch 20/50\n",
      "960/960 [==============================] - 1s 1ms/step - loss: 0.0962 - accuracy: 0.9732 - val_loss: 0.1179 - val_accuracy: 0.9678\n",
      "Epoch 21/50\n",
      "960/960 [==============================] - 1s 1ms/step - loss: 0.0919 - accuracy: 0.9744 - val_loss: 0.1164 - val_accuracy: 0.9675\n",
      "Epoch 22/50\n",
      "960/960 [==============================] - 1s 1ms/step - loss: 0.0883 - accuracy: 0.9753 - val_loss: 0.1123 - val_accuracy: 0.9694\n",
      "Epoch 23/50\n",
      "960/960 [==============================] - 1s 1ms/step - loss: 0.0845 - accuracy: 0.9768 - val_loss: 0.1111 - val_accuracy: 0.9686\n",
      "Epoch 24/50\n",
      "960/960 [==============================] - 1s 1ms/step - loss: 0.0811 - accuracy: 0.9776 - val_loss: 0.1095 - val_accuracy: 0.9694\n",
      "Epoch 25/50\n",
      "960/960 [==============================] - 1s 1ms/step - loss: 0.0778 - accuracy: 0.9781 - val_loss: 0.1096 - val_accuracy: 0.9688\n",
      "Epoch 26/50\n",
      "960/960 [==============================] - 1s 1ms/step - loss: 0.0747 - accuracy: 0.9795 - val_loss: 0.1057 - val_accuracy: 0.9709\n",
      "Epoch 27/50\n",
      "960/960 [==============================] - 1s 1ms/step - loss: 0.0717 - accuracy: 0.9806 - val_loss: 0.1042 - val_accuracy: 0.9697\n",
      "Epoch 28/50\n",
      "960/960 [==============================] - 1s 1ms/step - loss: 0.0689 - accuracy: 0.9811 - val_loss: 0.1037 - val_accuracy: 0.9697\n",
      "Epoch 29/50\n",
      "960/960 [==============================] - 1s 1ms/step - loss: 0.0665 - accuracy: 0.9822 - val_loss: 0.1011 - val_accuracy: 0.9720\n",
      "Epoch 30/50\n",
      "960/960 [==============================] - 1s 1ms/step - loss: 0.0639 - accuracy: 0.9829 - val_loss: 0.0986 - val_accuracy: 0.9719\n",
      "Epoch 31/50\n",
      "960/960 [==============================] - 1s 1ms/step - loss: 0.0615 - accuracy: 0.9833 - val_loss: 0.0988 - val_accuracy: 0.9715\n",
      "Epoch 32/50\n",
      "960/960 [==============================] - 2s 2ms/step - loss: 0.0591 - accuracy: 0.9845 - val_loss: 0.0968 - val_accuracy: 0.9729\n",
      "Epoch 33/50\n",
      "960/960 [==============================] - 1s 1ms/step - loss: 0.0570 - accuracy: 0.9850 - val_loss: 0.0980 - val_accuracy: 0.9722\n",
      "Epoch 34/50\n",
      "960/960 [==============================] - 1s 1ms/step - loss: 0.0550 - accuracy: 0.9856 - val_loss: 0.0957 - val_accuracy: 0.9727\n",
      "Epoch 35/50\n",
      "960/960 [==============================] - 1s 1ms/step - loss: 0.0532 - accuracy: 0.9859 - val_loss: 0.0947 - val_accuracy: 0.9732\n",
      "Epoch 36/50\n",
      "960/960 [==============================] - 1s 1ms/step - loss: 0.0511 - accuracy: 0.9867 - val_loss: 0.0966 - val_accuracy: 0.9726\n",
      "Epoch 37/50\n",
      "960/960 [==============================] - 1s 1ms/step - loss: 0.0495 - accuracy: 0.9872 - val_loss: 0.0930 - val_accuracy: 0.9734\n",
      "Epoch 38/50\n",
      "960/960 [==============================] - 1s 1ms/step - loss: 0.0479 - accuracy: 0.9875 - val_loss: 0.0919 - val_accuracy: 0.9740\n",
      "Epoch 39/50\n",
      "960/960 [==============================] - 1s 1ms/step - loss: 0.0461 - accuracy: 0.9882 - val_loss: 0.0914 - val_accuracy: 0.9748\n",
      "Epoch 40/50\n",
      "960/960 [==============================] - 1s 1ms/step - loss: 0.0445 - accuracy: 0.9886 - val_loss: 0.0913 - val_accuracy: 0.9743\n",
      "Epoch 41/50\n",
      "960/960 [==============================] - 1s 1ms/step - loss: 0.0429 - accuracy: 0.9889 - val_loss: 0.0907 - val_accuracy: 0.9743\n",
      "Epoch 42/50\n",
      "960/960 [==============================] - 1s 1ms/step - loss: 0.0416 - accuracy: 0.9895 - val_loss: 0.0910 - val_accuracy: 0.9752\n",
      "Epoch 43/50\n",
      "960/960 [==============================] - 1s 1ms/step - loss: 0.0403 - accuracy: 0.9901 - val_loss: 0.0901 - val_accuracy: 0.9748\n",
      "Epoch 44/50\n",
      "960/960 [==============================] - 1s 1ms/step - loss: 0.0390 - accuracy: 0.9900 - val_loss: 0.0884 - val_accuracy: 0.9747\n",
      "Epoch 45/50\n",
      "960/960 [==============================] - 1s 1ms/step - loss: 0.0376 - accuracy: 0.9908 - val_loss: 0.0893 - val_accuracy: 0.9737\n",
      "Epoch 46/50\n",
      "960/960 [==============================] - 1s 1ms/step - loss: 0.0364 - accuracy: 0.9910 - val_loss: 0.0881 - val_accuracy: 0.9748\n",
      "Epoch 47/50\n",
      "960/960 [==============================] - 1s 1ms/step - loss: 0.0351 - accuracy: 0.9917 - val_loss: 0.0887 - val_accuracy: 0.9747\n",
      "Epoch 48/50\n",
      "960/960 [==============================] - 1s 1ms/step - loss: 0.0340 - accuracy: 0.9921 - val_loss: 0.0885 - val_accuracy: 0.9754\n",
      "Epoch 49/50\n",
      "960/960 [==============================] - 1s 1ms/step - loss: 0.0327 - accuracy: 0.9926 - val_loss: 0.0878 - val_accuracy: 0.9744\n",
      "Epoch 50/50\n",
      "960/960 [==============================] - 1s 1ms/step - loss: 0.0317 - accuracy: 0.9927 - val_loss: 0.0874 - val_accuracy: 0.9760\n"
     ]
    },
    {
     "data": {
      "text/plain": [
       "<keras.callbacks.History at 0x287972dbb50>"
      ]
     },
     "execution_count": 21,
     "metadata": {},
     "output_type": "execute_result"
    }
   ],
   "source": [
    "model=Sequential()\n",
    "model.add(Dense(200,activation='relu',input_dim=784))\n",
    "model.add(Dense(100,activation='relu'))\n",
    "model.add(Dense(10,activation='softmax'))\n",
    "model.compile(loss=\"sparse_categorical_crossentropy\",optimizer=\"sgd\",metrics=['accuracy'])\n",
    "model.fit(X_train.reshape(-1,784),y_train,epochs=50,batch_size=50,validation_split=.2)"
   ]
  },
  {
   "cell_type": "code",
   "execution_count": 22,
   "metadata": {},
   "outputs": [
    {
     "name": "stdout",
     "output_type": "stream",
     "text": [
      "313/313 [==============================] - 0s 1ms/step - loss: 0.0808 - accuracy: 0.9749\n"
     ]
    },
    {
     "data": {
      "text/plain": [
       "[0.08081591129302979, 0.9749000072479248]"
      ]
     },
     "execution_count": 22,
     "metadata": {},
     "output_type": "execute_result"
    }
   ],
   "source": [
    "model.evaluate(X_test.reshape(-1,784),y_test)"
   ]
  },
  {
   "cell_type": "code",
   "execution_count": 23,
   "metadata": {},
   "outputs": [
    {
     "name": "stdout",
     "output_type": "stream",
     "text": [
      "Model: \"sequential_3\"\n",
      "_________________________________________________________________\n",
      "Layer (type)                 Output Shape              Param #   \n",
      "=================================================================\n",
      "dense_9 (Dense)              (None, 200)               157000    \n",
      "_________________________________________________________________\n",
      "dense_10 (Dense)             (None, 100)               20100     \n",
      "_________________________________________________________________\n",
      "dense_11 (Dense)             (None, 10)                1010      \n",
      "=================================================================\n",
      "Total params: 178,110\n",
      "Trainable params: 178,110\n",
      "Non-trainable params: 0\n",
      "_________________________________________________________________\n"
     ]
    }
   ],
   "source": [
    "model.summary()"
   ]
  },
  {
   "cell_type": "code",
   "execution_count": 32,
   "metadata": {},
   "outputs": [
    {
     "data": {
      "text/plain": [
       "{}"
      ]
     },
     "execution_count": 32,
     "metadata": {},
     "output_type": "execute_result"
    }
   ],
   "source": [
    "model.history.history"
   ]
  },
  {
   "cell_type": "code",
   "execution_count": 52,
   "metadata": {},
   "outputs": [],
   "source": [
    "model=Sequential()\n",
    "model.add(Dense(300,activation='relu',input_dim=784))\n",
    "model.add(Dense(100,activation='relu'))\n",
    "model.add(Dense(10,activation='softmax'))\n",
    "model.compile(loss=\"sparse_categorical_crossentropy\",optimizer=\"sgd\",metrics=['accuracy'])\n",
    "history=model.fit(X_train.reshape(-1,784),y_train,epochs=200,batch_size=50,validation_split=.2,verbose=0)"
   ]
  },
  {
   "cell_type": "code",
   "execution_count": 40,
   "metadata": {},
   "outputs": [
    {
     "data": {
      "text/plain": [
       "dict_keys(['loss', 'accuracy', 'val_loss', 'val_accuracy'])"
      ]
     },
     "execution_count": 40,
     "metadata": {},
     "output_type": "execute_result"
    }
   ],
   "source": [
    "history.history.keys()"
   ]
  },
  {
   "cell_type": "code",
   "execution_count": 55,
   "metadata": {},
   "outputs": [
    {
     "data": {
      "text/plain": [
       "0.9783333539962769"
      ]
     },
     "execution_count": 55,
     "metadata": {},
     "output_type": "execute_result"
    }
   ],
   "source": [
    "history.history['val_accuracy'][-1]"
   ]
  },
  {
   "cell_type": "code",
   "execution_count": 56,
   "metadata": {},
   "outputs": [
    {
     "data": {
      "image/png": "[encoded data removed]",
      "text/plain": [
       "<Figure size 432x288 with 1 Axes>"
      ]
     },
     "metadata": {
      "needs_background": "light"
     },
     "output_type": "display_data"
    }
   ],
   "source": [
    "plt.plot(range(1,201),history.history['val_loss'])\n",
    "plt.show()"
   ]
  },
  {
   "cell_type": "code",
   "execution_count": 57,
   "metadata": {},
   "outputs": [
    {
     "name": "stdout",
     "output_type": "stream",
     "text": [
      "313/313 [==============================] - 0s 1ms/step - loss: 0.0800 - accuracy: 0.9810\n"
     ]
    },
    {
     "data": {
      "text/plain": [
       "[0.07996343076229095, 0.9810000061988831]"
      ]
     },
     "execution_count": 57,
     "metadata": {},
     "output_type": "execute_result"
    }
   ],
   "source": [
    "model.evaluate(X_test.reshape(-1,784),y_test)"
   ]
  },
  {
   "cell_type": "code",
   "execution_count": 58,
   "metadata": {},
   "outputs": [],
   "source": [
    "import cv2"
   ]
  },
  {
   "cell_type": "code",
   "execution_count": 62,
   "metadata": {},
   "outputs": [
    {
     "data": {
      "text/plain": [
       "array([2], dtype=int64)"
      ]
     },
     "execution_count": 62,
     "metadata": {},
     "output_type": "execute_result"
    }
   ],
   "source": [
    "img=cv2.imread(\"2.png\")\n",
    "gray=cv2.cvtColor(img,cv2.COLOR_BGR2GRAY)\n",
    "gray=gray/255.0\n",
    "probs=model.predict(gray.reshape(-1,784))\n",
    "import numpy as np\n",
    "np.argmax(probs,-1)"
   ]
  },
  {
   "cell_type": "code",
   "execution_count": null,
   "metadata": {},
   "outputs": [],
   "source": []
  }
 ],
 "metadata": {
  "kernelspec": {
   "display_name": "Python 3",
   "language": "python",
   "name": "python3"
  },
  "language_info": {
   "codemirror_mode": {
    "name": "ipython",
    "version": 3
   },
   "file_extension": ".py",
   "mimetype": "text/x-python",
   "name": "python",
   "nbconvert_exporter": "python",
   "pygments_lexer": "ipython3",
   "version": "3.8.5"
  }
 },
 "nbformat": 4,
 "nbformat_minor": 5
}
